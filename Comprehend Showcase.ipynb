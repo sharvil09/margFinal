{
 "cells": [
  {
   "cell_type": "markdown",
   "metadata": {},
   "source": [
    "# Algorithm Application\n",
    "## Parsing Reddit Data to Generate City Insights"
   ]
  },
  {
   "cell_type": "code",
   "execution_count": 23,
   "metadata": {},
   "outputs": [
    {
     "data": {
      "text/html": [
       "<script>jQuery(function() {if (jQuery(\"body.notebook_app\").length == 0) { jQuery(\".input_area\").toggle(); jQuery(\".prompt\").toggle();}});</script>"
      ]
     },
     "metadata": {},
     "output_type": "display_data"
    },
    {
     "data": {
      "text/html": [
       "<button onclick=\"jQuery('.input_area').toggle(); jQuery('.prompt').toggle();\">Toggle code</button>"
      ]
     },
     "metadata": {},
     "output_type": "display_data"
    }
   ],
   "source": [
    "## Code to hide code in cell\n",
    "from IPython.display import display\n",
    "from IPython.display import HTML\n",
    "import IPython.core.display as di # Example: di.display_html('<h3>%s:</h3>' % str, raw=True)\n",
    "\n",
    "# This line will hide code by default when the notebook is exported as HTML\n",
    "di.display_html('<script>jQuery(function() {if (jQuery(\"body.notebook_app\").length == 0) { jQuery(\".input_area\").toggle(); jQuery(\".prompt\").toggle();}});</script>', raw=True)\n",
    "\n",
    "# This line will add a button to toggle visibility of code blocks, for use with the HTML export version\n",
    "di.display_html('''<button onclick=\"jQuery('.input_area').toggle(); jQuery('.prompt').toggle();\">Toggle code</button>''', raw=True)"
   ]
  },
  {
   "cell_type": "code",
   "execution_count": 4,
   "metadata": {},
   "outputs": [],
   "source": [
    "# libraries\n",
    "## data cleaning tools\n",
    "import os\n",
    "import pandas as pd\n",
    "import numpy as np\n",
    "import seaborn as sns\n",
    "import matplotlib.pyplot as plt\n",
    "## misc. data cleaning, analysis, notebook formatting tools\n",
    "import random\n",
    "import requests\n",
    "from ipywidgets import widgets\n",
    "from IPython.display import display, clear_output\n",
    "import pickle\n",
    "import json\n",
    "import base64\n",
    "import requests\n",
    "## machine learning tools\n",
    "from scipy.stats import linregress\n",
    "from sklearn import preprocessing\n",
    "from sklearn.preprocessing import StandardScaler\n",
    "from sklearn.neighbors import NearestNeighbors"
   ]
  },
  {
   "cell_type": "code",
   "execution_count": 40,
   "metadata": {},
   "outputs": [],
   "source": [
    "## Load reddit data\n",
    "reddit_raw = \"https://raw.githubusercontent.com/sharvil09/margFinal/main/sample%20Reddit%20data.txt\"\n",
    "reddit = requests.get(reddit_raw).text\n",
    "list_1 = json.loads(json.loads(reddit))\n",
    "\n",
    "## Load sample name data\n",
    "ga_city_raw = \"https://raw.githubusercontent.com/sharvil09/margFinal/main/GA_city_sample.txt\"\n",
    "ga_city_raw = requests.get(ga_city_raw).text\n",
    "ga_city_samples = json.loads(json.loads(ga_city_raw))\n",
    "\n",
    "## Create df with names data\n",
    "GA_cities = pd.DataFrame(ga_city_samples, columns = [\"NAME\"])"
   ]
  },
  {
   "cell_type": "code",
   "execution_count": 41,
   "metadata": {},
   "outputs": [
    {
     "data": {
      "application/vnd.jupyter.widget-view+json": {
       "model_id": "6b9eb32d26fe439e81063d111b50cf7b",
       "version_major": 2,
       "version_minor": 0
      },
      "text/plain": [
       "Dropdown(description='Choose a city:', index=126, options=('Abbeville city, Georgia', 'Acworth city, Georgia',…"
      ]
     },
     "metadata": {},
     "output_type": "display_data"
    },
    {
     "data": {
      "application/vnd.jupyter.widget-view+json": {
       "model_id": "7acbc95e4136411385a07b4e15048f25",
       "version_major": 2,
       "version_minor": 0
      },
      "text/plain": [
       "Button(description='Get Results!', style=ButtonStyle())"
      ]
     },
     "metadata": {},
     "output_type": "display_data"
    },
    {
     "name": "stdout",
     "output_type": "stream",
     "text": [
      "We are analyzing your results. There is a lot of data to comb through, one second!\n",
      "AxesSubplot(0.125,0.125;0.775x0.755)\n"
     ]
    },
    {
     "data": {
      "image/png": "[encoded data removed]",
      "text/plain": [
       "<Figure size 432x288 with 1 Axes>"
      ]
     },
     "metadata": {
      "needs_background": "light"
     },
     "output_type": "display_data"
    }
   ],
   "source": [
    "from IPython.display import display, clear_output\n",
    "city_choice = widgets.Dropdown(options=ga_city_samples, \n",
    "                               value=ga_city_samples[0],\n",
    "                               description='Choose a city:',\n",
    "                               disabled=False)\n",
    "display(city_choice) \n",
    "\n",
    "submit_button = widgets.Button(description = \"Get Results!\")\n",
    "display(submit_button)\n",
    "\n",
    "def handle_submit(sender):\n",
    "    # Clear prior results\n",
    "    clear_output()\n",
    "    display(city_choice) \n",
    "    display(submit_button)\n",
    "\n",
    "    # Give a time warning\n",
    "    print(\"We are analyzing your results. There is a lot of data to comb through, one second!\")\n",
    "    \n",
    "    # Get city index\n",
    "    search_city = city_choice.value    \n",
    "    search_index_but = [i for i, val in enumerate(GA_cities.NAME == search_city) if val][0]\n",
    "    \n",
    "    # Bind data in a Dataframe\n",
    "    sec_city = pd.DataFrame.from_dict(list_1[search_index_but], orient='index')\n",
    "    \n",
    "    # Plot the data\n",
    "    sec_plot = sec_city.plot()\n",
    "    print(sec_plot)\n",
    "    \n",
    "submit_button.on_click(handle_submit)"
   ]
  },
  {
   "cell_type": "code",
   "execution_count": null,
   "metadata": {},
   "outputs": [],
   "source": []
  }
 ],
 "metadata": {
  "kernelspec": {
   "display_name": "conda_python3",
   "language": "python",
   "name": "conda_python3"
  },
  "language_info": {
   "codemirror_mode": {
    "name": "ipython",
    "version": 3
   },
   "file_extension": ".py",
   "mimetype": "text/x-python",
   "name": "python",
   "nbconvert_exporter": "python",
   "pygments_lexer": "ipython3",
   "version": "3.6.10"
  }
 },
 "nbformat": 4,
 "nbformat_minor": 4
}
